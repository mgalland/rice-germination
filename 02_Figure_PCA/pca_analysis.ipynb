{
 "cells": [
  {
   "cell_type": "markdown",
   "metadata": {},
   "source": [
    "# Data import"
   ]
  },
  {
   "cell_type": "code",
   "execution_count": 3,
   "id": "6609a942",
   "metadata": {},
   "outputs": [
    {
     "ename": "ImportError",
     "evalue": "No module named pandas",
     "output_type": "error",
     "traceback": [
      "\u001b[0;31m\u001b[0m",
      "\u001b[0;31mImportError\u001b[0mTraceback (most recent call last)",
      "\u001b[0;32m<ipython-input-3-8411136e230f>\u001b[0m in \u001b[0;36m<module>\u001b[0;34m()\u001b[0m\n\u001b[0;32m----> 1\u001b[0;31m \u001b[0;32mimport\u001b[0m \u001b[0mpandas\u001b[0m \u001b[0;32mas\u001b[0m \u001b[0mpd\u001b[0m\u001b[0;34m\u001b[0m\u001b[0m\n\u001b[0m\u001b[1;32m      2\u001b[0m \u001b[0;32mimport\u001b[0m \u001b[0mnumpy\u001b[0m \u001b[0;32mas\u001b[0m \u001b[0mnp\u001b[0m\u001b[0;34m\u001b[0m\u001b[0m\n\u001b[1;32m      3\u001b[0m \u001b[0;32mimport\u001b[0m \u001b[0mplotly\u001b[0m\u001b[0;34m.\u001b[0m\u001b[0mexpress\u001b[0m \u001b[0;32mas\u001b[0m \u001b[0mpx\u001b[0m\u001b[0;34m\u001b[0m\u001b[0m\n\u001b[1;32m      4\u001b[0m \u001b[0;32mfrom\u001b[0m \u001b[0msklearn\u001b[0m\u001b[0;34m.\u001b[0m\u001b[0mdecomposition\u001b[0m \u001b[0;32mimport\u001b[0m \u001b[0mPCA\u001b[0m\u001b[0;34m\u001b[0m\u001b[0m\n",
      "\u001b[0;31mImportError\u001b[0m: No module named pandas"
     ]
    }
   ],
   "source": [
    "import pandas as pd \n",
    "import numpy as np\n",
    "import plotly.express as px\n",
    "from sklearn.decomposition import PCA"
   ]
  },
  {
   "cell_type": "code",
   "execution_count": null,
   "metadata": {},
   "outputs": [
    {
     "data": {
      "text/plain": [
       "(22343, 22)"
      ]
     },
     "execution_count": 11,
     "metadata": {},
     "output_type": "execute_result"
    }
   ],
   "source": [
    "df = pd.read_csv(\"../00_data/embryo_transcriptome_germination.csv\")\n",
    "df.shape"
   ]
  },
  {
   "cell_type": "code",
   "execution_count": null,
   "metadata": {},
   "outputs": [
    {
     "data": {
      "text/html": [
       "<div>\n",
       "<style scoped>\n",
       "    .dataframe tbody tr th:only-of-type {\n",
       "        vertical-align: middle;\n",
       "    }\n",
       "\n",
       "    .dataframe tbody tr th {\n",
       "        vertical-align: top;\n",
       "    }\n",
       "\n",
       "    .dataframe thead th {\n",
       "        text-align: right;\n",
       "    }\n",
       "</style>\n",
       "<table border=\"1\" class=\"dataframe\">\n",
       "  <thead>\n",
       "    <tr style=\"text-align: right;\">\n",
       "      <th></th>\n",
       "      <th>probe</th>\n",
       "      <th>locus</th>\n",
       "      <th>gene_model</th>\n",
       "      <th>annotation</th>\n",
       "      <th>E0_R1</th>\n",
       "      <th>E0_R2</th>\n",
       "      <th>E0_R3</th>\n",
       "      <th>E4_R1</th>\n",
       "      <th>E4_R2</th>\n",
       "      <th>E4_R3</th>\n",
       "      <th>...</th>\n",
       "      <th>E8_R3</th>\n",
       "      <th>E12_R1</th>\n",
       "      <th>E12_R2</th>\n",
       "      <th>E12_R3</th>\n",
       "      <th>E16_R1</th>\n",
       "      <th>E16_R2</th>\n",
       "      <th>E16_R3</th>\n",
       "      <th>E24_R1</th>\n",
       "      <th>E24_R2</th>\n",
       "      <th>E24_R3</th>\n",
       "    </tr>\n",
       "  </thead>\n",
       "  <tbody>\n",
       "    <tr>\n",
       "      <th>0</th>\n",
       "      <td>Os.24643.1.S1_at</td>\n",
       "      <td>LOC_Os01g01010</td>\n",
       "      <td>LOC_Os01g01010.1</td>\n",
       "      <td>TBC domain containing protein, expressed</td>\n",
       "      <td>4.458709</td>\n",
       "      <td>4.169164</td>\n",
       "      <td>3.364452</td>\n",
       "      <td>4.439888</td>\n",
       "      <td>4.139644</td>\n",
       "      <td>4.266079</td>\n",
       "      <td>...</td>\n",
       "      <td>4.606138</td>\n",
       "      <td>4.461980</td>\n",
       "      <td>4.020412</td>\n",
       "      <td>4.213256</td>\n",
       "      <td>4.020412</td>\n",
       "      <td>3.431030</td>\n",
       "      <td>3.851348</td>\n",
       "      <td>3.746611</td>\n",
       "      <td>3.936177</td>\n",
       "      <td>3.675361</td>\n",
       "    </tr>\n",
       "    <tr>\n",
       "      <th>1</th>\n",
       "      <td>Os.33183.1.S1_at</td>\n",
       "      <td>LOC_Os01g01030</td>\n",
       "      <td>LOC_Os01g01030.1</td>\n",
       "      <td>monocopper oxidase, putative, expressed</td>\n",
       "      <td>3.990735</td>\n",
       "      <td>3.906583</td>\n",
       "      <td>4.149184</td>\n",
       "      <td>3.082146</td>\n",
       "      <td>3.111763</td>\n",
       "      <td>3.220381</td>\n",
       "      <td>...</td>\n",
       "      <td>2.876109</td>\n",
       "      <td>4.175812</td>\n",
       "      <td>3.936166</td>\n",
       "      <td>3.213966</td>\n",
       "      <td>3.993805</td>\n",
       "      <td>4.117506</td>\n",
       "      <td>4.424921</td>\n",
       "      <td>4.623405</td>\n",
       "      <td>4.683301</td>\n",
       "      <td>5.027158</td>\n",
       "    </tr>\n",
       "  </tbody>\n",
       "</table>\n",
       "<p>2 rows × 22 columns</p>\n",
       "</div>"
      ],
      "text/plain": [
       "              probe           locus        gene_model  \\\n",
       "0  Os.24643.1.S1_at  LOC_Os01g01010  LOC_Os01g01010.1   \n",
       "1  Os.33183.1.S1_at  LOC_Os01g01030  LOC_Os01g01030.1   \n",
       "\n",
       "                                 annotation     E0_R1     E0_R2     E0_R3  \\\n",
       "0  TBC domain containing protein, expressed  4.458709  4.169164  3.364452   \n",
       "1   monocopper oxidase, putative, expressed  3.990735  3.906583  4.149184   \n",
       "\n",
       "      E4_R1     E4_R2     E4_R3  ...     E8_R3    E12_R1    E12_R2    E12_R3  \\\n",
       "0  4.439888  4.139644  4.266079  ...  4.606138  4.461980  4.020412  4.213256   \n",
       "1  3.082146  3.111763  3.220381  ...  2.876109  4.175812  3.936166  3.213966   \n",
       "\n",
       "     E16_R1    E16_R2    E16_R3    E24_R1    E24_R2    E24_R3  \n",
       "0  4.020412  3.431030  3.851348  3.746611  3.936177  3.675361  \n",
       "1  3.993805  4.117506  4.424921  4.623405  4.683301  5.027158  \n",
       "\n",
       "[2 rows x 22 columns]"
      ]
     },
     "execution_count": 12,
     "metadata": {},
     "output_type": "execute_result"
    }
   ],
   "source": [
    "df.head(n = 2)"
   ]
  },
  {
   "cell_type": "markdown",
   "metadata": {},
   "source": [
    "# PCA analysis\n",
    "\n",
    "## Transpose to have samples x genes\n",
    "Format needs to be: _N_ data rows x _M_ features"
   ]
  },
  {
   "cell_type": "code",
   "execution_count": null,
   "metadata": {},
   "outputs": [
    {
     "data": {
      "text/html": [
       "<div>\n",
       "<style scoped>\n",
       "    .dataframe tbody tr th:only-of-type {\n",
       "        vertical-align: middle;\n",
       "    }\n",
       "\n",
       "    .dataframe tbody tr th {\n",
       "        vertical-align: top;\n",
       "    }\n",
       "\n",
       "    .dataframe thead th {\n",
       "        text-align: right;\n",
       "    }\n",
       "</style>\n",
       "<table border=\"1\" class=\"dataframe\">\n",
       "  <thead>\n",
       "    <tr style=\"text-align: right;\">\n",
       "      <th></th>\n",
       "      <th>E0_R1</th>\n",
       "      <th>E0_R2</th>\n",
       "      <th>E0_R3</th>\n",
       "      <th>E4_R1</th>\n",
       "      <th>E4_R2</th>\n",
       "      <th>E4_R3</th>\n",
       "      <th>E8_R1</th>\n",
       "      <th>E8_R2</th>\n",
       "      <th>E8_R3</th>\n",
       "      <th>E12_R1</th>\n",
       "      <th>E12_R2</th>\n",
       "      <th>E12_R3</th>\n",
       "      <th>E16_R1</th>\n",
       "      <th>E16_R2</th>\n",
       "      <th>E16_R3</th>\n",
       "      <th>E24_R1</th>\n",
       "      <th>E24_R2</th>\n",
       "      <th>E24_R3</th>\n",
       "    </tr>\n",
       "    <tr>\n",
       "      <th>locus</th>\n",
       "      <th></th>\n",
       "      <th></th>\n",
       "      <th></th>\n",
       "      <th></th>\n",
       "      <th></th>\n",
       "      <th></th>\n",
       "      <th></th>\n",
       "      <th></th>\n",
       "      <th></th>\n",
       "      <th></th>\n",
       "      <th></th>\n",
       "      <th></th>\n",
       "      <th></th>\n",
       "      <th></th>\n",
       "      <th></th>\n",
       "      <th></th>\n",
       "      <th></th>\n",
       "      <th></th>\n",
       "    </tr>\n",
       "  </thead>\n",
       "  <tbody>\n",
       "    <tr>\n",
       "      <th>LOC_Os01g01010</th>\n",
       "      <td>4.458709</td>\n",
       "      <td>4.169164</td>\n",
       "      <td>3.364452</td>\n",
       "      <td>4.439888</td>\n",
       "      <td>4.139644</td>\n",
       "      <td>4.266079</td>\n",
       "      <td>4.586922</td>\n",
       "      <td>4.617715</td>\n",
       "      <td>4.606138</td>\n",
       "      <td>4.461980</td>\n",
       "      <td>4.020412</td>\n",
       "      <td>4.213256</td>\n",
       "      <td>4.020412</td>\n",
       "      <td>3.431030</td>\n",
       "      <td>3.851348</td>\n",
       "      <td>3.746611</td>\n",
       "      <td>3.936177</td>\n",
       "      <td>3.675361</td>\n",
       "    </tr>\n",
       "    <tr>\n",
       "      <th>LOC_Os01g01030</th>\n",
       "      <td>3.990735</td>\n",
       "      <td>3.906583</td>\n",
       "      <td>4.149184</td>\n",
       "      <td>3.082146</td>\n",
       "      <td>3.111763</td>\n",
       "      <td>3.220381</td>\n",
       "      <td>2.780409</td>\n",
       "      <td>2.819023</td>\n",
       "      <td>2.876109</td>\n",
       "      <td>4.175812</td>\n",
       "      <td>3.936166</td>\n",
       "      <td>3.213966</td>\n",
       "      <td>3.993805</td>\n",
       "      <td>4.117506</td>\n",
       "      <td>4.424921</td>\n",
       "      <td>4.623405</td>\n",
       "      <td>4.683301</td>\n",
       "      <td>5.027158</td>\n",
       "    </tr>\n",
       "  </tbody>\n",
       "</table>\n",
       "</div>"
      ],
      "text/plain": [
       "                   E0_R1     E0_R2     E0_R3     E4_R1     E4_R2     E4_R3  \\\n",
       "locus                                                                        \n",
       "LOC_Os01g01010  4.458709  4.169164  3.364452  4.439888  4.139644  4.266079   \n",
       "LOC_Os01g01030  3.990735  3.906583  4.149184  3.082146  3.111763  3.220381   \n",
       "\n",
       "                   E8_R1     E8_R2     E8_R3    E12_R1    E12_R2    E12_R3  \\\n",
       "locus                                                                        \n",
       "LOC_Os01g01010  4.586922  4.617715  4.606138  4.461980  4.020412  4.213256   \n",
       "LOC_Os01g01030  2.780409  2.819023  2.876109  4.175812  3.936166  3.213966   \n",
       "\n",
       "                  E16_R1    E16_R2    E16_R3    E24_R1    E24_R2    E24_R3  \n",
       "locus                                                                       \n",
       "LOC_Os01g01010  4.020412  3.431030  3.851348  3.746611  3.936177  3.675361  \n",
       "LOC_Os01g01030  3.993805  4.117506  4.424921  4.623405  4.683301  5.027158  "
      ]
     },
     "execution_count": 13,
     "metadata": {},
     "output_type": "execute_result"
    }
   ],
   "source": [
    "X = df.drop([\"probe\", \"gene_model\", \"annotation\"], axis = 1)\n",
    "X = X.set_index(\"locus\")\n",
    "X.head(n=2)"
   ]
  },
  {
   "cell_type": "code",
   "execution_count": null,
   "metadata": {},
   "outputs": [
    {
     "name": "stdout",
     "output_type": "stream",
     "text": [
      "(18, 22343)\n",
      "<class 'pandas.core.frame.DataFrame'>\n"
     ]
    },
    {
     "data": {
      "text/html": [
       "<div>\n",
       "<style scoped>\n",
       "    .dataframe tbody tr th:only-of-type {\n",
       "        vertical-align: middle;\n",
       "    }\n",
       "\n",
       "    .dataframe tbody tr th {\n",
       "        vertical-align: top;\n",
       "    }\n",
       "\n",
       "    .dataframe thead th {\n",
       "        text-align: right;\n",
       "    }\n",
       "</style>\n",
       "<table border=\"1\" class=\"dataframe\">\n",
       "  <thead>\n",
       "    <tr style=\"text-align: right;\">\n",
       "      <th>locus</th>\n",
       "      <th>LOC_Os01g01010</th>\n",
       "      <th>LOC_Os01g01030</th>\n",
       "      <th>LOC_Os01g01040</th>\n",
       "      <th>LOC_Os01g01050</th>\n",
       "      <th>LOC_Os01g01060</th>\n",
       "      <th>LOC_Os01g01070</th>\n",
       "      <th>LOC_Os01g01070</th>\n",
       "      <th>LOC_Os01g01080</th>\n",
       "      <th>LOC_Os01g01130</th>\n",
       "      <th>LOC_Os01g01130</th>\n",
       "      <th>...</th>\n",
       "      <th>LOC_Os12g44310</th>\n",
       "      <th>LOC_Os12g44320</th>\n",
       "      <th>LOC_Os12g44320</th>\n",
       "      <th>LOC_Os12g44330</th>\n",
       "      <th>LOC_Os12g44330</th>\n",
       "      <th>LOC_Os12g44340</th>\n",
       "      <th>LOC_Os12g44350</th>\n",
       "      <th>LOC_Os12g44360</th>\n",
       "      <th>LOC_Os12g44380</th>\n",
       "      <th>LOC_Os12g44390</th>\n",
       "    </tr>\n",
       "  </thead>\n",
       "  <tbody>\n",
       "    <tr>\n",
       "      <th>E0_R1</th>\n",
       "      <td>4.458709</td>\n",
       "      <td>3.990735</td>\n",
       "      <td>7.421312</td>\n",
       "      <td>7.411779</td>\n",
       "      <td>10.819255</td>\n",
       "      <td>6.842540</td>\n",
       "      <td>5.003877</td>\n",
       "      <td>7.601142</td>\n",
       "      <td>2.335502</td>\n",
       "      <td>4.785266</td>\n",
       "      <td>...</td>\n",
       "      <td>6.238626</td>\n",
       "      <td>2.719603</td>\n",
       "      <td>2.578098</td>\n",
       "      <td>8.793690</td>\n",
       "      <td>8.465682</td>\n",
       "      <td>7.980739</td>\n",
       "      <td>4.075215</td>\n",
       "      <td>6.134446</td>\n",
       "      <td>8.627791</td>\n",
       "      <td>2.483303</td>\n",
       "    </tr>\n",
       "    <tr>\n",
       "      <th>E0_R2</th>\n",
       "      <td>4.169164</td>\n",
       "      <td>3.906583</td>\n",
       "      <td>7.235501</td>\n",
       "      <td>7.141642</td>\n",
       "      <td>10.886193</td>\n",
       "      <td>5.965028</td>\n",
       "      <td>4.616580</td>\n",
       "      <td>7.515935</td>\n",
       "      <td>2.335502</td>\n",
       "      <td>4.677584</td>\n",
       "      <td>...</td>\n",
       "      <td>6.265501</td>\n",
       "      <td>2.462779</td>\n",
       "      <td>2.591504</td>\n",
       "      <td>8.231905</td>\n",
       "      <td>7.808036</td>\n",
       "      <td>7.990943</td>\n",
       "      <td>4.188368</td>\n",
       "      <td>5.477891</td>\n",
       "      <td>8.401898</td>\n",
       "      <td>2.425991</td>\n",
       "    </tr>\n",
       "    <tr>\n",
       "      <th>E0_R3</th>\n",
       "      <td>3.364452</td>\n",
       "      <td>4.149184</td>\n",
       "      <td>7.289948</td>\n",
       "      <td>7.500222</td>\n",
       "      <td>10.960401</td>\n",
       "      <td>5.917007</td>\n",
       "      <td>4.506988</td>\n",
       "      <td>7.471122</td>\n",
       "      <td>2.335502</td>\n",
       "      <td>5.047282</td>\n",
       "      <td>...</td>\n",
       "      <td>6.095306</td>\n",
       "      <td>2.642628</td>\n",
       "      <td>2.578098</td>\n",
       "      <td>7.962525</td>\n",
       "      <td>7.976420</td>\n",
       "      <td>7.869019</td>\n",
       "      <td>4.310303</td>\n",
       "      <td>5.721879</td>\n",
       "      <td>8.478656</td>\n",
       "      <td>2.495280</td>\n",
       "    </tr>\n",
       "    <tr>\n",
       "      <th>E4_R1</th>\n",
       "      <td>4.439888</td>\n",
       "      <td>3.082146</td>\n",
       "      <td>7.066410</td>\n",
       "      <td>6.783628</td>\n",
       "      <td>10.844375</td>\n",
       "      <td>5.703411</td>\n",
       "      <td>4.496063</td>\n",
       "      <td>6.953051</td>\n",
       "      <td>2.335502</td>\n",
       "      <td>5.645304</td>\n",
       "      <td>...</td>\n",
       "      <td>5.121406</td>\n",
       "      <td>2.744510</td>\n",
       "      <td>2.573163</td>\n",
       "      <td>9.681823</td>\n",
       "      <td>8.878573</td>\n",
       "      <td>7.673850</td>\n",
       "      <td>4.569397</td>\n",
       "      <td>4.738406</td>\n",
       "      <td>9.099229</td>\n",
       "      <td>2.429130</td>\n",
       "    </tr>\n",
       "    <tr>\n",
       "      <th>E4_R2</th>\n",
       "      <td>4.139644</td>\n",
       "      <td>3.111763</td>\n",
       "      <td>7.033372</td>\n",
       "      <td>6.737224</td>\n",
       "      <td>10.659201</td>\n",
       "      <td>5.678235</td>\n",
       "      <td>4.506988</td>\n",
       "      <td>6.956940</td>\n",
       "      <td>2.367251</td>\n",
       "      <td>5.611086</td>\n",
       "      <td>...</td>\n",
       "      <td>4.832548</td>\n",
       "      <td>2.744510</td>\n",
       "      <td>2.559210</td>\n",
       "      <td>9.261920</td>\n",
       "      <td>8.699793</td>\n",
       "      <td>7.565910</td>\n",
       "      <td>4.285983</td>\n",
       "      <td>4.589789</td>\n",
       "      <td>8.772885</td>\n",
       "      <td>2.533727</td>\n",
       "    </tr>\n",
       "  </tbody>\n",
       "</table>\n",
       "<p>5 rows × 22343 columns</p>\n",
       "</div>"
      ],
      "text/plain": [
       "locus  LOC_Os01g01010  LOC_Os01g01030  LOC_Os01g01040  LOC_Os01g01050  \\\n",
       "E0_R1        4.458709        3.990735        7.421312        7.411779   \n",
       "E0_R2        4.169164        3.906583        7.235501        7.141642   \n",
       "E0_R3        3.364452        4.149184        7.289948        7.500222   \n",
       "E4_R1        4.439888        3.082146        7.066410        6.783628   \n",
       "E4_R2        4.139644        3.111763        7.033372        6.737224   \n",
       "\n",
       "locus  LOC_Os01g01060  LOC_Os01g01070  LOC_Os01g01070  LOC_Os01g01080  \\\n",
       "E0_R1       10.819255        6.842540        5.003877        7.601142   \n",
       "E0_R2       10.886193        5.965028        4.616580        7.515935   \n",
       "E0_R3       10.960401        5.917007        4.506988        7.471122   \n",
       "E4_R1       10.844375        5.703411        4.496063        6.953051   \n",
       "E4_R2       10.659201        5.678235        4.506988        6.956940   \n",
       "\n",
       "locus  LOC_Os01g01130  LOC_Os01g01130  ...  LOC_Os12g44310  LOC_Os12g44320  \\\n",
       "E0_R1        2.335502        4.785266  ...        6.238626        2.719603   \n",
       "E0_R2        2.335502        4.677584  ...        6.265501        2.462779   \n",
       "E0_R3        2.335502        5.047282  ...        6.095306        2.642628   \n",
       "E4_R1        2.335502        5.645304  ...        5.121406        2.744510   \n",
       "E4_R2        2.367251        5.611086  ...        4.832548        2.744510   \n",
       "\n",
       "locus  LOC_Os12g44320  LOC_Os12g44330  LOC_Os12g44330  LOC_Os12g44340  \\\n",
       "E0_R1        2.578098        8.793690        8.465682        7.980739   \n",
       "E0_R2        2.591504        8.231905        7.808036        7.990943   \n",
       "E0_R3        2.578098        7.962525        7.976420        7.869019   \n",
       "E4_R1        2.573163        9.681823        8.878573        7.673850   \n",
       "E4_R2        2.559210        9.261920        8.699793        7.565910   \n",
       "\n",
       "locus  LOC_Os12g44350  LOC_Os12g44360  LOC_Os12g44380  LOC_Os12g44390  \n",
       "E0_R1        4.075215        6.134446        8.627791        2.483303  \n",
       "E0_R2        4.188368        5.477891        8.401898        2.425991  \n",
       "E0_R3        4.310303        5.721879        8.478656        2.495280  \n",
       "E4_R1        4.569397        4.738406        9.099229        2.429130  \n",
       "E4_R2        4.285983        4.589789        8.772885        2.533727  \n",
       "\n",
       "[5 rows x 22343 columns]"
      ]
     },
     "execution_count": 14,
     "metadata": {},
     "output_type": "execute_result"
    }
   ],
   "source": [
    "t_X = X.transpose()\n",
    "print(t_X.shape)\n",
    "print(type(t_X))\n",
    "t_X.head()"
   ]
  },
  {
   "cell_type": "markdown",
   "metadata": {},
   "source": [
    "## Compute PCA\n",
    "By default, sklearn PCA center the data (mean = 0).\n",
    "If _whiten=True_, it will compute unit component-wise variances. "
   ]
  },
  {
   "cell_type": "code",
   "execution_count": null,
   "metadata": {},
   "outputs": [],
   "source": [
    "n_components = 2 # lower than min(n_samples, n_features)\n",
    "pca = PCA(n_components=n_components, whiten=True)\n",
    "X_pca = pca.fit_transform(t_X)"
   ]
  },
  {
   "cell_type": "code",
   "execution_count": null,
   "metadata": {},
   "outputs": [
    {
     "data": {
      "text/plain": [
       "87.59148315380855"
      ]
     },
     "execution_count": 16,
     "metadata": {},
     "output_type": "execute_result"
    }
   ],
   "source": [
    "total_var = pca.explained_variance_ratio_.sum() * 100\n",
    "total_var\n",
    "#labels = {str(i): f\"PC {i+1}\" for i in range(n_components)}\n",
    "#labels['color'] = \"Time point (h)\"\n"
   ]
  },
  {
   "cell_type": "markdown",
   "metadata": {},
   "source": [
    "# Plot PCA with plotly"
   ]
  },
  {
   "cell_type": "code",
   "execution_count": null,
   "metadata": {},
   "outputs": [
    {
     "data": {
      "text/plain": [
       "['E0', 'E0', 'E0', 'E4', 'E4']"
      ]
     },
     "execution_count": 17,
     "metadata": {},
     "output_type": "execute_result"
    }
   ],
   "source": [
    "sample_labels = df.columns.values.tolist()[4:]\n",
    "sample_timepoints = [s.split(\"_\")[0] for s in sample_labels]\n",
    "sample_timepoints_unique_levels = list(set(sample_timepoints))\n",
    "sample_timepoints[0:5]"
   ]
  },
  {
   "cell_type": "code",
   "execution_count": null,
   "metadata": {},
   "outputs": [
    {
     "ename": "NameError",
     "evalue": "name 'df_for_plot' is not defined",
     "output_type": "error",
     "traceback": [
      "\u001b[0;31m---------------------------------------------------------------------------\u001b[0m",
      "\u001b[0;31mNameError\u001b[0m                                 Traceback (most recent call last)",
      "\u001b[0;32m/var/folders/n8/6bs0rvd563j2nvq3xjrpv6400000gn/T/ipykernel_4727/3600372197.py\u001b[0m in \u001b[0;36m<module>\u001b[0;34m\u001b[0m\n\u001b[0;32m----> 1\u001b[0;31m \u001b[0mdf_for_plot\u001b[0m\u001b[0;34m.\u001b[0m\u001b[0mhead\u001b[0m\u001b[0;34m(\u001b[0m\u001b[0;36m5\u001b[0m\u001b[0;34m)\u001b[0m\u001b[0;34m\u001b[0m\u001b[0;34m\u001b[0m\u001b[0m\n\u001b[0m",
      "\u001b[0;31mNameError\u001b[0m: name 'df_for_plot' is not defined"
     ]
    }
   ],
   "source": [
    "df_for_plot.head(5)"
   ]
  },
  {
   "cell_type": "code",
   "execution_count": null,
   "metadata": {},
   "outputs": [
    {
     "name": "stdout",
     "output_type": "stream",
     "text": [
      "(18, 2)\n"
     ]
    },
    {
     "data": {
      "text/html": [
       "<div>\n",
       "<style scoped>\n",
       "    .dataframe tbody tr th:only-of-type {\n",
       "        vertical-align: middle;\n",
       "    }\n",
       "\n",
       "    .dataframe tbody tr th {\n",
       "        vertical-align: top;\n",
       "    }\n",
       "\n",
       "    .dataframe thead th {\n",
       "        text-align: right;\n",
       "    }\n",
       "</style>\n",
       "<table border=\"1\" class=\"dataframe\">\n",
       "  <thead>\n",
       "    <tr style=\"text-align: right;\">\n",
       "      <th></th>\n",
       "      <th>PC1</th>\n",
       "      <th>PC2</th>\n",
       "      <th>timepoint</th>\n",
       "    </tr>\n",
       "  </thead>\n",
       "  <tbody>\n",
       "    <tr>\n",
       "      <th>0</th>\n",
       "      <td>1.700541</td>\n",
       "      <td>1.514721</td>\n",
       "      <td>E0</td>\n",
       "    </tr>\n",
       "    <tr>\n",
       "      <th>1</th>\n",
       "      <td>1.514215</td>\n",
       "      <td>1.223059</td>\n",
       "      <td>E0</td>\n",
       "    </tr>\n",
       "    <tr>\n",
       "      <th>2</th>\n",
       "      <td>1.637115</td>\n",
       "      <td>1.455535</td>\n",
       "      <td>E0</td>\n",
       "    </tr>\n",
       "    <tr>\n",
       "      <th>3</th>\n",
       "      <td>0.760146</td>\n",
       "      <td>-1.462551</td>\n",
       "      <td>E4</td>\n",
       "    </tr>\n",
       "    <tr>\n",
       "      <th>4</th>\n",
       "      <td>0.875001</td>\n",
       "      <td>-1.249527</td>\n",
       "      <td>E4</td>\n",
       "    </tr>\n",
       "  </tbody>\n",
       "</table>\n",
       "</div>"
      ],
      "text/plain": [
       "        PC1       PC2 timepoint\n",
       "0  1.700541  1.514721        E0\n",
       "1  1.514215  1.223059        E0\n",
       "2  1.637115  1.455535        E0\n",
       "3  0.760146 -1.462551        E4\n",
       "4  0.875001 -1.249527        E4"
      ]
     },
     "execution_count": 284,
     "metadata": {},
     "output_type": "execute_result"
    }
   ],
   "source": [
    "df_for_plot = pd.DataFrame(X_pca, columns=[\"PC1\",\"PC2\"])\n",
    "print(df_for_plot.shape)\n",
    "df_for_plot[\"timepoint\"] = sample_timepoints\n",
    "df_for_plot.head(n=5)"
   ]
  },
  {
   "cell_type": "code",
   "execution_count": null,
   "metadata": {},
   "outputs": [
    {
     "data": {
      "text/plain": [
       "{'0': 'PC 1 (70.9%)', '1': 'PC 2 (16.7%)'}"
      ]
     },
     "execution_count": 285,
     "metadata": {},
     "output_type": "execute_result"
    }
   ],
   "source": [
    "custom_axis_labels = {\n",
    "    str(i): f\"PC {i+1} ({var:.1f}%)\"\n",
    "    for i, var in enumerate(pca.explained_variance_ratio_ * 100)\n",
    "}\n",
    "custom_axis_labels"
   ]
  },
  {
   "cell_type": "code",
   "execution_count": null,
   "metadata": {},
   "outputs": [
    {
     "data": {
      "application/vnd.plotly.v1+json": {
       "config": {
        "plotlyServerURL": "https://plot.ly"
       },
       "data": [
        {
         "hovertemplate": "timepoint=E0<br>PC1=%{x}<br>PC2=%{y}<extra></extra>",
         "legendgroup": "E0",
         "marker": {
          "color": "#636efa",
          "symbol": "circle"
         },
         "mode": "markers",
         "name": "E0",
         "orientation": "v",
         "showlegend": true,
         "type": "scatter",
         "x": [
          1.7005406668381622,
          1.5142146326649295,
          1.6371151260028984
         ],
         "xaxis": "x",
         "y": [
          1.5147207113158698,
          1.2230591865947538,
          1.4555348035703632
         ],
         "yaxis": "y"
        },
        {
         "hovertemplate": "timepoint=E4<br>PC1=%{x}<br>PC2=%{y}<extra></extra>",
         "legendgroup": "E4",
         "marker": {
          "color": "#EF553B",
          "symbol": "circle"
         },
         "mode": "markers",
         "name": "E4",
         "orientation": "v",
         "showlegend": true,
         "type": "scatter",
         "x": [
          0.7601463311900769,
          0.8750014954912146,
          0.9439100412101461
         ],
         "xaxis": "x",
         "y": [
          -1.4625508670056993,
          -1.2495273396587852,
          -1.1902085865175986
         ],
         "yaxis": "y"
        },
        {
         "hovertemplate": "timepoint=E8<br>PC1=%{x}<br>PC2=%{y}<extra></extra>",
         "legendgroup": "E8",
         "marker": {
          "color": "#00cc96",
          "symbol": "circle"
         },
         "mode": "markers",
         "name": "E8",
         "orientation": "v",
         "showlegend": true,
         "type": "scatter",
         "x": [
          -0.03520106772227016,
          -0.025104610151201648,
          0.1587511771030509
         ],
         "xaxis": "x",
         "y": [
          -1.0479147366617951,
          -1.009565793393953,
          -1.0681428067934327
         ],
         "yaxis": "y"
        },
        {
         "hovertemplate": "timepoint=E12<br>PC1=%{x}<br>PC2=%{y}<extra></extra>",
         "legendgroup": "E12",
         "marker": {
          "color": "#ab63fa",
          "symbol": "circle"
         },
         "mode": "markers",
         "name": "E12",
         "orientation": "v",
         "showlegend": true,
         "type": "scatter",
         "x": [
          -0.7278119891962226,
          -0.6401205812783131,
          -0.31560536772666253
         ],
         "xaxis": "x",
         "y": [
          0.11246317858894013,
          -0.145421958557089,
          -0.49289016237741373
         ],
         "yaxis": "y"
        },
        {
         "hovertemplate": "timepoint=E16<br>PC1=%{x}<br>PC2=%{y}<extra></extra>",
         "legendgroup": "E16",
         "marker": {
          "color": "#FFA15A",
          "symbol": "circle"
         },
         "mode": "markers",
         "name": "E16",
         "orientation": "v",
         "showlegend": true,
         "type": "scatter",
         "x": [
          -0.907296052234705,
          -0.8081596232245224,
          -0.7759032365746459
         ],
         "xaxis": "x",
         "y": [
          0.2682713162121787,
          0.22219251556828876,
          0.2876061605423813
         ],
         "yaxis": "y"
        },
        {
         "hovertemplate": "timepoint=E24<br>PC1=%{x}<br>PC2=%{y}<extra></extra>",
         "legendgroup": "E24",
         "marker": {
          "color": "#19d3f3",
          "symbol": "circle"
         },
         "mode": "markers",
         "name": "E24",
         "orientation": "v",
         "showlegend": true,
         "type": "scatter",
         "x": [
          -1.1466632894537359,
          -1.1498384815804228,
          -1.057975171357777
         ],
         "xaxis": "x",
         "y": [
          0.8863283974972398,
          0.9230621172047363,
          0.7729838638710151
         ],
         "yaxis": "y"
        }
       ],
       "layout": {
        "legend": {
         "title": {
          "text": "timepoint"
         },
         "tracegroupgap": 0
        },
        "template": {
         "data": {
          "bar": [
           {
            "error_x": {
             "color": "#2a3f5f"
            },
            "error_y": {
             "color": "#2a3f5f"
            },
            "marker": {
             "line": {
              "color": "#E5ECF6",
              "width": 0.5
             },
             "pattern": {
              "fillmode": "overlay",
              "size": 10,
              "solidity": 0.2
             }
            },
            "type": "bar"
           }
          ],
          "barpolar": [
           {
            "marker": {
             "line": {
              "color": "#E5ECF6",
              "width": 0.5
             },
             "pattern": {
              "fillmode": "overlay",
              "size": 10,
              "solidity": 0.2
             }
            },
            "type": "barpolar"
           }
          ],
          "carpet": [
           {
            "aaxis": {
             "endlinecolor": "#2a3f5f",
             "gridcolor": "white",
             "linecolor": "white",
             "minorgridcolor": "white",
             "startlinecolor": "#2a3f5f"
            },
            "baxis": {
             "endlinecolor": "#2a3f5f",
             "gridcolor": "white",
             "linecolor": "white",
             "minorgridcolor": "white",
             "startlinecolor": "#2a3f5f"
            },
            "type": "carpet"
           }
          ],
          "choropleth": [
           {
            "colorbar": {
             "outlinewidth": 0,
             "ticks": ""
            },
            "type": "choropleth"
           }
          ],
          "contour": [
           {
            "colorbar": {
             "outlinewidth": 0,
             "ticks": ""
            },
            "colorscale": [
             [
              0,
              "#0d0887"
             ],
             [
              0.1111111111111111,
              "#46039f"
             ],
             [
              0.2222222222222222,
              "#7201a8"
             ],
             [
              0.3333333333333333,
              "#9c179e"
             ],
             [
              0.4444444444444444,
              "#bd3786"
             ],
             [
              0.5555555555555556,
              "#d8576b"
             ],
             [
              0.6666666666666666,
              "#ed7953"
             ],
             [
              0.7777777777777778,
              "#fb9f3a"
             ],
             [
              0.8888888888888888,
              "#fdca26"
             ],
             [
              1,
              "#f0f921"
             ]
            ],
            "type": "contour"
           }
          ],
          "contourcarpet": [
           {
            "colorbar": {
             "outlinewidth": 0,
             "ticks": ""
            },
            "type": "contourcarpet"
           }
          ],
          "heatmap": [
           {
            "colorbar": {
             "outlinewidth": 0,
             "ticks": ""
            },
            "colorscale": [
             [
              0,
              "#0d0887"
             ],
             [
              0.1111111111111111,
              "#46039f"
             ],
             [
              0.2222222222222222,
              "#7201a8"
             ],
             [
              0.3333333333333333,
              "#9c179e"
             ],
             [
              0.4444444444444444,
              "#bd3786"
             ],
             [
              0.5555555555555556,
              "#d8576b"
             ],
             [
              0.6666666666666666,
              "#ed7953"
             ],
             [
              0.7777777777777778,
              "#fb9f3a"
             ],
             [
              0.8888888888888888,
              "#fdca26"
             ],
             [
              1,
              "#f0f921"
             ]
            ],
            "type": "heatmap"
           }
          ],
          "heatmapgl": [
           {
            "colorbar": {
             "outlinewidth": 0,
             "ticks": ""
            },
            "colorscale": [
             [
              0,
              "#0d0887"
             ],
             [
              0.1111111111111111,
              "#46039f"
             ],
             [
              0.2222222222222222,
              "#7201a8"
             ],
             [
              0.3333333333333333,
              "#9c179e"
             ],
             [
              0.4444444444444444,
              "#bd3786"
             ],
             [
              0.5555555555555556,
              "#d8576b"
             ],
             [
              0.6666666666666666,
              "#ed7953"
             ],
             [
              0.7777777777777778,
              "#fb9f3a"
             ],
             [
              0.8888888888888888,
              "#fdca26"
             ],
             [
              1,
              "#f0f921"
             ]
            ],
            "type": "heatmapgl"
           }
          ],
          "histogram": [
           {
            "marker": {
             "pattern": {
              "fillmode": "overlay",
              "size": 10,
              "solidity": 0.2
             }
            },
            "type": "histogram"
           }
          ],
          "histogram2d": [
           {
            "colorbar": {
             "outlinewidth": 0,
             "ticks": ""
            },
            "colorscale": [
             [
              0,
              "#0d0887"
             ],
             [
              0.1111111111111111,
              "#46039f"
             ],
             [
              0.2222222222222222,
              "#7201a8"
             ],
             [
              0.3333333333333333,
              "#9c179e"
             ],
             [
              0.4444444444444444,
              "#bd3786"
             ],
             [
              0.5555555555555556,
              "#d8576b"
             ],
             [
              0.6666666666666666,
              "#ed7953"
             ],
             [
              0.7777777777777778,
              "#fb9f3a"
             ],
             [
              0.8888888888888888,
              "#fdca26"
             ],
             [
              1,
              "#f0f921"
             ]
            ],
            "type": "histogram2d"
           }
          ],
          "histogram2dcontour": [
           {
            "colorbar": {
             "outlinewidth": 0,
             "ticks": ""
            },
            "colorscale": [
             [
              0,
              "#0d0887"
             ],
             [
              0.1111111111111111,
              "#46039f"
             ],
             [
              0.2222222222222222,
              "#7201a8"
             ],
             [
              0.3333333333333333,
              "#9c179e"
             ],
             [
              0.4444444444444444,
              "#bd3786"
             ],
             [
              0.5555555555555556,
              "#d8576b"
             ],
             [
              0.6666666666666666,
              "#ed7953"
             ],
             [
              0.7777777777777778,
              "#fb9f3a"
             ],
             [
              0.8888888888888888,
              "#fdca26"
             ],
             [
              1,
              "#f0f921"
             ]
            ],
            "type": "histogram2dcontour"
           }
          ],
          "mesh3d": [
           {
            "colorbar": {
             "outlinewidth": 0,
             "ticks": ""
            },
            "type": "mesh3d"
           }
          ],
          "parcoords": [
           {
            "line": {
             "colorbar": {
              "outlinewidth": 0,
              "ticks": ""
             }
            },
            "type": "parcoords"
           }
          ],
          "pie": [
           {
            "automargin": true,
            "type": "pie"
           }
          ],
          "scatter": [
           {
            "marker": {
             "colorbar": {
              "outlinewidth": 0,
              "ticks": ""
             }
            },
            "type": "scatter"
           }
          ],
          "scatter3d": [
           {
            "line": {
             "colorbar": {
              "outlinewidth": 0,
              "ticks": ""
             }
            },
            "marker": {
             "colorbar": {
              "outlinewidth": 0,
              "ticks": ""
             }
            },
            "type": "scatter3d"
           }
          ],
          "scattercarpet": [
           {
            "marker": {
             "colorbar": {
              "outlinewidth": 0,
              "ticks": ""
             }
            },
            "type": "scattercarpet"
           }
          ],
          "scattergeo": [
           {
            "marker": {
             "colorbar": {
              "outlinewidth": 0,
              "ticks": ""
             }
            },
            "type": "scattergeo"
           }
          ],
          "scattergl": [
           {
            "marker": {
             "colorbar": {
              "outlinewidth": 0,
              "ticks": ""
             }
            },
            "type": "scattergl"
           }
          ],
          "scattermapbox": [
           {
            "marker": {
             "colorbar": {
              "outlinewidth": 0,
              "ticks": ""
             }
            },
            "type": "scattermapbox"
           }
          ],
          "scatterpolar": [
           {
            "marker": {
             "colorbar": {
              "outlinewidth": 0,
              "ticks": ""
             }
            },
            "type": "scatterpolar"
           }
          ],
          "scatterpolargl": [
           {
            "marker": {
             "colorbar": {
              "outlinewidth": 0,
              "ticks": ""
             }
            },
            "type": "scatterpolargl"
           }
          ],
          "scatterternary": [
           {
            "marker": {
             "colorbar": {
              "outlinewidth": 0,
              "ticks": ""
             }
            },
            "type": "scatterternary"
           }
          ],
          "surface": [
           {
            "colorbar": {
             "outlinewidth": 0,
             "ticks": ""
            },
            "colorscale": [
             [
              0,
              "#0d0887"
             ],
             [
              0.1111111111111111,
              "#46039f"
             ],
             [
              0.2222222222222222,
              "#7201a8"
             ],
             [
              0.3333333333333333,
              "#9c179e"
             ],
             [
              0.4444444444444444,
              "#bd3786"
             ],
             [
              0.5555555555555556,
              "#d8576b"
             ],
             [
              0.6666666666666666,
              "#ed7953"
             ],
             [
              0.7777777777777778,
              "#fb9f3a"
             ],
             [
              0.8888888888888888,
              "#fdca26"
             ],
             [
              1,
              "#f0f921"
             ]
            ],
            "type": "surface"
           }
          ],
          "table": [
           {
            "cells": {
             "fill": {
              "color": "#EBF0F8"
             },
             "line": {
              "color": "white"
             }
            },
            "header": {
             "fill": {
              "color": "#C8D4E3"
             },
             "line": {
              "color": "white"
             }
            },
            "type": "table"
           }
          ]
         },
         "layout": {
          "annotationdefaults": {
           "arrowcolor": "#2a3f5f",
           "arrowhead": 0,
           "arrowwidth": 1
          },
          "autotypenumbers": "strict",
          "coloraxis": {
           "colorbar": {
            "outlinewidth": 0,
            "ticks": ""
           }
          },
          "colorscale": {
           "diverging": [
            [
             0,
             "#8e0152"
            ],
            [
             0.1,
             "#c51b7d"
            ],
            [
             0.2,
             "#de77ae"
            ],
            [
             0.3,
             "#f1b6da"
            ],
            [
             0.4,
             "#fde0ef"
            ],
            [
             0.5,
             "#f7f7f7"
            ],
            [
             0.6,
             "#e6f5d0"
            ],
            [
             0.7,
             "#b8e186"
            ],
            [
             0.8,
             "#7fbc41"
            ],
            [
             0.9,
             "#4d9221"
            ],
            [
             1,
             "#276419"
            ]
           ],
           "sequential": [
            [
             0,
             "#0d0887"
            ],
            [
             0.1111111111111111,
             "#46039f"
            ],
            [
             0.2222222222222222,
             "#7201a8"
            ],
            [
             0.3333333333333333,
             "#9c179e"
            ],
            [
             0.4444444444444444,
             "#bd3786"
            ],
            [
             0.5555555555555556,
             "#d8576b"
            ],
            [
             0.6666666666666666,
             "#ed7953"
            ],
            [
             0.7777777777777778,
             "#fb9f3a"
            ],
            [
             0.8888888888888888,
             "#fdca26"
            ],
            [
             1,
             "#f0f921"
            ]
           ],
           "sequentialminus": [
            [
             0,
             "#0d0887"
            ],
            [
             0.1111111111111111,
             "#46039f"
            ],
            [
             0.2222222222222222,
             "#7201a8"
            ],
            [
             0.3333333333333333,
             "#9c179e"
            ],
            [
             0.4444444444444444,
             "#bd3786"
            ],
            [
             0.5555555555555556,
             "#d8576b"
            ],
            [
             0.6666666666666666,
             "#ed7953"
            ],
            [
             0.7777777777777778,
             "#fb9f3a"
            ],
            [
             0.8888888888888888,
             "#fdca26"
            ],
            [
             1,
             "#f0f921"
            ]
           ]
          },
          "colorway": [
           "#636efa",
           "#EF553B",
           "#00cc96",
           "#ab63fa",
           "#FFA15A",
           "#19d3f3",
           "#FF6692",
           "#B6E880",
           "#FF97FF",
           "#FECB52"
          ],
          "font": {
           "color": "#2a3f5f"
          },
          "geo": {
           "bgcolor": "white",
           "lakecolor": "white",
           "landcolor": "#E5ECF6",
           "showlakes": true,
           "showland": true,
           "subunitcolor": "white"
          },
          "hoverlabel": {
           "align": "left"
          },
          "hovermode": "closest",
          "mapbox": {
           "style": "light"
          },
          "paper_bgcolor": "white",
          "plot_bgcolor": "#E5ECF6",
          "polar": {
           "angularaxis": {
            "gridcolor": "white",
            "linecolor": "white",
            "ticks": ""
           },
           "bgcolor": "#E5ECF6",
           "radialaxis": {
            "gridcolor": "white",
            "linecolor": "white",
            "ticks": ""
           }
          },
          "scene": {
           "xaxis": {
            "backgroundcolor": "#E5ECF6",
            "gridcolor": "white",
            "gridwidth": 2,
            "linecolor": "white",
            "showbackground": true,
            "ticks": "",
            "zerolinecolor": "white"
           },
           "yaxis": {
            "backgroundcolor": "#E5ECF6",
            "gridcolor": "white",
            "gridwidth": 2,
            "linecolor": "white",
            "showbackground": true,
            "ticks": "",
            "zerolinecolor": "white"
           },
           "zaxis": {
            "backgroundcolor": "#E5ECF6",
            "gridcolor": "white",
            "gridwidth": 2,
            "linecolor": "white",
            "showbackground": true,
            "ticks": "",
            "zerolinecolor": "white"
           }
          },
          "shapedefaults": {
           "line": {
            "color": "#2a3f5f"
           }
          },
          "ternary": {
           "aaxis": {
            "gridcolor": "white",
            "linecolor": "white",
            "ticks": ""
           },
           "baxis": {
            "gridcolor": "white",
            "linecolor": "white",
            "ticks": ""
           },
           "bgcolor": "#E5ECF6",
           "caxis": {
            "gridcolor": "white",
            "linecolor": "white",
            "ticks": ""
           }
          },
          "title": {
           "x": 0.05
          },
          "xaxis": {
           "automargin": true,
           "gridcolor": "white",
           "linecolor": "white",
           "ticks": "",
           "title": {
            "standoff": 15
           },
           "zerolinecolor": "white",
           "zerolinewidth": 2
          },
          "yaxis": {
           "automargin": true,
           "gridcolor": "white",
           "linecolor": "white",
           "ticks": "",
           "title": {
            "standoff": 15
           },
           "zerolinecolor": "white",
           "zerolinewidth": 2
          }
         }
        },
        "title": {
         "text": "PCA score plot from the embryo transcriptome"
        },
        "xaxis": {
         "anchor": "y",
         "domain": [
          0,
          1
         ],
         "title": {
          "text": "PC 1 (70.9%)"
         }
        },
        "yaxis": {
         "anchor": "x",
         "domain": [
          0,
          1
         ],
         "title": {
          "text": "PC 2 (16.7%)"
         }
        }
       }
      }
     },
     "metadata": {},
     "output_type": "display_data"
    }
   ],
   "source": [
    "\n",
    "fig = px.scatter(\n",
    "    df_for_plot, x = \"PC1\", y = \"PC2\", color = \"timepoint\", \n",
    "    labels = custom_axis_labels, \n",
    "    title = \"PCA score plot from the embryo transcriptome\"\n",
    ")\n",
    "fig.update_layout(xaxis_title=custom_axis_labels[\"0\"], yaxis_title=custom_axis_labels[\"1\"])\n",
    "fig.show()"
   ]
  },
  {
   "cell_type": "code",
   "execution_count": null,
   "metadata": {},
   "outputs": [
    {
     "ename": "ValueError",
     "evalue": "\nImage export using the \"kaleido\" engine requires the kaleido package,\nwhich can be installed using pip:\n    $ pip install -U kaleido\n",
     "output_type": "error",
     "traceback": [
      "\u001b[0;31m---------------------------------------------------------------------------\u001b[0m",
      "\u001b[0;31mValueError\u001b[0m                                Traceback (most recent call last)",
      "\u001b[0;32m/var/folders/n8/6bs0rvd563j2nvq3xjrpv6400000gn/T/ipykernel_1370/3091694570.py\u001b[0m in \u001b[0;36m<module>\u001b[0;34m\u001b[0m\n\u001b[1;32m      1\u001b[0m \u001b[0;31m# save figure\u001b[0m\u001b[0;34m\u001b[0m\u001b[0;34m\u001b[0m\u001b[0m\n\u001b[0;32m----> 2\u001b[0;31m \u001b[0mfig\u001b[0m\u001b[0;34m.\u001b[0m\u001b[0mwrite_image\u001b[0m\u001b[0;34m(\u001b[0m\u001b[0;34m\"embryo_transcriptome_pca_score_plot.pdf\"\u001b[0m\u001b[0;34m)\u001b[0m\u001b[0;34m\u001b[0m\u001b[0;34m\u001b[0m\u001b[0m\n\u001b[0m",
      "\u001b[0;32m~/opt/miniconda3/envs/rice/lib/python3.9/site-packages/plotly/basedatatypes.py\u001b[0m in \u001b[0;36mwrite_image\u001b[0;34m(self, *args, **kwargs)\u001b[0m\n\u001b[1;32m   3819\u001b[0m         \u001b[0;32mimport\u001b[0m \u001b[0mplotly\u001b[0m\u001b[0;34m.\u001b[0m\u001b[0mio\u001b[0m \u001b[0;32mas\u001b[0m \u001b[0mpio\u001b[0m\u001b[0;34m\u001b[0m\u001b[0;34m\u001b[0m\u001b[0m\n\u001b[1;32m   3820\u001b[0m \u001b[0;34m\u001b[0m\u001b[0m\n\u001b[0;32m-> 3821\u001b[0;31m         \u001b[0;32mreturn\u001b[0m \u001b[0mpio\u001b[0m\u001b[0;34m.\u001b[0m\u001b[0mwrite_image\u001b[0m\u001b[0;34m(\u001b[0m\u001b[0mself\u001b[0m\u001b[0;34m,\u001b[0m \u001b[0;34m*\u001b[0m\u001b[0margs\u001b[0m\u001b[0;34m,\u001b[0m \u001b[0;34m**\u001b[0m\u001b[0mkwargs\u001b[0m\u001b[0;34m)\u001b[0m\u001b[0;34m\u001b[0m\u001b[0;34m\u001b[0m\u001b[0m\n\u001b[0m\u001b[1;32m   3822\u001b[0m \u001b[0;34m\u001b[0m\u001b[0m\n\u001b[1;32m   3823\u001b[0m     \u001b[0;31m# Static helpers\u001b[0m\u001b[0;34m\u001b[0m\u001b[0;34m\u001b[0m\u001b[0m\n",
      "\u001b[0;32m~/opt/miniconda3/envs/rice/lib/python3.9/site-packages/plotly/io/_kaleido.py\u001b[0m in \u001b[0;36mwrite_image\u001b[0;34m(fig, file, format, scale, width, height, validate, engine)\u001b[0m\n\u001b[1;32m    266\u001b[0m     \u001b[0;31m# -------------\u001b[0m\u001b[0;34m\u001b[0m\u001b[0;34m\u001b[0m\u001b[0m\n\u001b[1;32m    267\u001b[0m     \u001b[0;31m# Do this first so we don't create a file if image conversion fails\u001b[0m\u001b[0;34m\u001b[0m\u001b[0;34m\u001b[0m\u001b[0m\n\u001b[0;32m--> 268\u001b[0;31m     img_data = to_image(\n\u001b[0m\u001b[1;32m    269\u001b[0m         \u001b[0mfig\u001b[0m\u001b[0;34m,\u001b[0m\u001b[0;34m\u001b[0m\u001b[0;34m\u001b[0m\u001b[0m\n\u001b[1;32m    270\u001b[0m         \u001b[0mformat\u001b[0m\u001b[0;34m=\u001b[0m\u001b[0mformat\u001b[0m\u001b[0;34m,\u001b[0m\u001b[0;34m\u001b[0m\u001b[0;34m\u001b[0m\u001b[0m\n",
      "\u001b[0;32m~/opt/miniconda3/envs/rice/lib/python3.9/site-packages/plotly/io/_kaleido.py\u001b[0m in \u001b[0;36mto_image\u001b[0;34m(fig, format, width, height, scale, validate, engine)\u001b[0m\n\u001b[1;32m    132\u001b[0m     \u001b[0;31m# Raise informative error message if Kaleido is not installed\u001b[0m\u001b[0;34m\u001b[0m\u001b[0;34m\u001b[0m\u001b[0m\n\u001b[1;32m    133\u001b[0m     \u001b[0;32mif\u001b[0m \u001b[0mscope\u001b[0m \u001b[0;32mis\u001b[0m \u001b[0;32mNone\u001b[0m\u001b[0;34m:\u001b[0m\u001b[0;34m\u001b[0m\u001b[0;34m\u001b[0m\u001b[0m\n\u001b[0;32m--> 134\u001b[0;31m         raise ValueError(\n\u001b[0m\u001b[1;32m    135\u001b[0m             \"\"\"\n\u001b[1;32m    136\u001b[0m \u001b[0mImage\u001b[0m \u001b[0mexport\u001b[0m \u001b[0musing\u001b[0m \u001b[0mthe\u001b[0m \u001b[0;34m\"kaleido\"\u001b[0m \u001b[0mengine\u001b[0m \u001b[0mrequires\u001b[0m \u001b[0mthe\u001b[0m \u001b[0mkaleido\u001b[0m \u001b[0mpackage\u001b[0m\u001b[0;34m,\u001b[0m\u001b[0;34m\u001b[0m\u001b[0;34m\u001b[0m\u001b[0m\n",
      "\u001b[0;31mValueError\u001b[0m: \nImage export using the \"kaleido\" engine requires the kaleido package,\nwhich can be installed using pip:\n    $ pip install -U kaleido\n"
     ]
    }
   ],
   "source": [
    "# save figure\n",
    "fig.write_image(\"embryo_transcriptome_pca_score_plot.pdf\")"
   ]
  },
  {
   "cell_type": "code",
   "execution_count": null,
   "metadata": {},
   "outputs": [],
   "source": []
  }
 ],
 "metadata": {
  "interpreter": {
   "hash": "bdb4e70c674acd55049cac971997bf637d72fed248a711cd9cc9bff2bb1c3c28"
  },
  "kernelspec": {
   "display_name": "Python 3.9.7 64-bit ('rice': conda)",
   "name": "python3"
  },
  "language_info": {
   "codemirror_mode": {
    "name": "ipython",
    "version": 2
   },
   "file_extension": ".py",
   "mimetype": "text/x-python",
   "name": "python",
   "nbconvert_exporter": "python",
   "pygments_lexer": "ipython2",
   "version": "2.7.15"
  }
 },
 "nbformat": 4,
 "nbformat_minor": 5
}
